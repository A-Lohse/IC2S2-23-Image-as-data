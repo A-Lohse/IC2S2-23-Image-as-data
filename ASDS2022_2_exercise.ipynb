{
  "cells": [
    {
      "cell_type": "markdown",
      "source": [
        "# Convolutional Neural Networks Exercise 2.\n",
        "\n",
        "In this exercise you will fine-tune/re-train pre-trained models to help you with images classification (still using the CIFAR10 dataset).\n",
        "\n",
        "The code below is almost ready to run, and making it run requires very little of you. So, the exercise here is to try out different pre-trained models (I have suggested some below) and maybe experiment with only fine-tuning some (later) layers instead of the whole network.\n",
        "\n",
        "Neither me nor the TAs are gonna police anybody, but I would recommend that you at least try out 2 different models beyond the one already implemented below. \n",
        "\n",
        "Given the right model and settings, you should be able to get and accuracy above 80 and perhaps even above 90.\n",
        "\n",
        "Have fun.."
      ],
      "metadata": {
        "id": "nRHWL0JgWvGC"
      }
    },
    {
      "cell_type": "code",
      "execution_count": null,
      "metadata": {
        "id": "rvgcNnUq_Ilx"
      },
      "outputs": [],
      "source": [
        "import os\n",
        "import numpy as np\n",
        "import matplotlib.pyplot as plt\n",
        "\n",
        "import torch\n",
        "import torch.nn as nn\n",
        "import torch.optim as optim\n",
        "import torch.nn.functional as F\n",
        "import torchvision\n",
        "from torchvision import datasets\n",
        "import torchvision.transforms as transforms\n",
        "from torchsummary import summary                    \n",
        "\n",
        "device = torch.device('cuda' if torch.cuda.is_available() else 'cpu')\n",
        "print(device)"
      ]
    },
    {
      "cell_type": "markdown",
      "source": [
        "# Load models\n",
        "\n",
        "We will start by testing a pre-trained vgg16 model. You can read a bit about the pytorch implementation here:\n",
        "\n",
        "- https://pytorch.org/vision/master/models/generated/torchvision.models.vgg16.html#torchvision.models.vgg16\n",
        "\n",
        "\n",
        "And here is a schematic of the vgg16 architecture:\n",
        "- https://miro.medium.com/max/850/1*_Lg1i7wv1pLpzp2F4MLrvw.png\n",
        "\n",
        "Hopefully the architecture looks somewhat familiar and you can recognize the \"encoder\" form. The reason it is denoted *16* is that this vgg implementation have 16 trainable layers (the blue and green blocks in the architecture schematics above). \n",
        "\n",
        "The point for this exercise is to try different pre-trained networks out. That also means that most of the code below needs no tweaking. When you have changed what little needs to be changed for the vgg16 model to run, and you have noted its performance, I suggest you try to implement these models:\n",
        "\n",
        "- resnet18\n",
        "- mobilenet_v3_small\n",
        "- shufflenet_v2_x0_5\n",
        "- squeezenet1_0\n",
        "\n",
        "You can read about these - and meny more under *classification* at:\n",
        "- https://pytorch.org/vision/master/models.html#classification\n",
        "\n",
        "Note that some of these networks are quite a bit more complicated - and larger - than e.g. the vgg16. This should not discourage you. For now, you do not have to understand the more complicated architectures. You just need to be able to re-train the networks. Of course, you would always want to read the article(s) presenting the networks if you where to use them for actual research, but since we are just playing around the pytorch documentation will do."
      ],
      "metadata": {
        "id": "zh7GJZLZUeOr"
      }
    },
    {
      "cell_type": "code",
      "source": [
        "# Load the vgg16 model-builder\n",
        "\n",
        "from torchvision.models import vgg16_bn # bn is simply the version with batch normalization"
      ],
      "metadata": {
        "id": "PXEvDuOWUSO-"
      },
      "execution_count": null,
      "outputs": []
    },
    {
      "cell_type": "code",
      "source": [
        "# lest also define our classes here. We will need this in a moment.\n",
        "classes = ('plane', 'car', 'bird', 'cat', 'deer', 'dog', 'frog', 'horse', 'ship', 'truck')\n",
        "num_classes = len(classes)"
      ],
      "metadata": {
        "id": "DrgEA1StWdg9"
      },
      "execution_count": null,
      "outputs": []
    },
    {
      "cell_type": "code",
      "source": [
        "#instanciate a pretrained vgg16_bn model (and send it to the gpu)\n",
        "\n",
        "model = vgg16_bn(pretrained = True).to(device)"
      ],
      "metadata": {
        "id": "4rkOyLFncFF7"
      },
      "execution_count": null,
      "outputs": []
    },
    {
      "cell_type": "markdown",
      "source": [
        "The fact that you have instantiated the model as \"pre-trained\" means that all the weights in all the filters/kernels are already trained.\n"
      ],
      "metadata": {
        "id": "PbkYkgpDjnPT"
      }
    },
    {
      "cell_type": "code",
      "source": [
        "# print the model architectures\n",
        "print(model)"
      ],
      "metadata": {
        "id": "Rdt7LMOTjmLk"
      },
      "execution_count": null,
      "outputs": []
    },
    {
      "cell_type": "markdown",
      "source": [
        "You can also use \n",
        "`summary(model, (3,224,244))`\n",
        "or\n",
        "`for k in model._modules.keys():\n",
        "  print(k)`\n",
        "To survey the model if you want to.\n",
        "\n",
        "As you might see this model is somewhat similar to what you created last week. The most central part of this print out (right now) is the last layer. As you can see it right now, the output of the model is 1000 different classes. If we were using a dataset with the same 1000 classes we could just go ahead. But We only have 10 in the our dataset CIFAR10. So we need to change this last layer.\n",
        "\n",
        "If you look at the very bottom of the printout above you should see something like:\n",
        "\n",
        "`(classifier): Sequential(`   \n",
        "`...`  \n",
        "`(6): Linear(in_features=4096 , out_features=1000, bias=True)`  \n",
        "`)`\n",
        "\n",
        "So, we want to change the 6th object in the classifier *block*. Specifically, you want to insert a new linear layer here. It should take the same number of in_features but the number of out-features should correspond the number of classes in our task. \n",
        "\n",
        "Note that this specific for Alexnet (and a couple different models). Other models have different architecture and the last layer that needs changing might be called something else, be placed differently, or might not even be Linear (remember that you can do convolutions all the way down). So you will need to check each model. If you get stuck here, this page might help you out a bit. Go to **Initialize and Reshape the Networks**\n",
        ":\n",
        "\n",
        "https://pytorch.org/tutorials/beginner/finetuning_torchvision_models_tutorial.html\n",
        "\n",
        "\n",
        "Also note: if you do not want to hard-code or remember the number of input features use:\n",
        "\n",
        "`model.classifier[6].in_features`"
      ],
      "metadata": {
        "id": "ndhNqtbrcXUD"
      }
    },
    {
      "cell_type": "code",
      "source": [
        "model.classifier[...] = nn.Linear(..., ...).to(device)"
      ],
      "metadata": {
        "id": "OGtAqHM3cFCd"
      },
      "execution_count": null,
      "outputs": []
    },
    {
      "cell_type": "markdown",
      "source": [
        "If you now print the last layer, you should see that the appropriate amount of out_features: "
      ],
      "metadata": {
        "id": "53bZASBjsMA2"
      }
    },
    {
      "cell_type": "code",
      "source": [
        "print(model.classifier[...])"
      ],
      "metadata": {
        "id": "XBOyZ0bdsJ7-"
      },
      "execution_count": null,
      "outputs": []
    },
    {
      "cell_type": "markdown",
      "source": [
        "\n",
        "Note that this layer is now completely new. There is nothing pre-trained in it. Only \"randomly\" initialized weights. These needs to be trained. But! All the other layers is still pre-trained.\n",
        "\n",
        "Now, just as we changed the output of our model, we must also change our input. I.e. the images (not the model this time). All pre-trained models expect a input of a specific size (and dimension). For Alexnet you can see it here (bottom page):\n",
        "\n",
        "https://pytorch.org/vision/master/models/generated/torchvision.models.alexnet.html#torchvision.models.alexnet\n",
        "\n",
        "What you should focus on (rigth now) is that the network expects a image of 224x224 pixels. I also expects the image to be normalized between [-1, 1]. A couple of things are worth noting here:\n",
        "\n",
        "- Since these ar CNN they can take images of many varying sizes, but the result will suffer (a lot sometimes) is you do no resize you input images accordingly.\n",
        "- Whether you resize to 256 and then center crop to 224 (as stated in the manual) is less important. You can also resize to 256 and random crop for better data augmentation (doing training only of course).\n",
        "- According to the manual you should first re-scale the image to [0,1] then normalize using mean=[0.485, 0.456, 0.406] and std=[0.229, 0.224, 0.225]. In practice normalizing the CIFAR10 images with mean=[0.5, 0.5, 0.5] and std=[0.5, 0.5, 0.5] achieves something very similar: normalization between [-1, 1].\n",
        "\n",
        "I have put a (working) suggestion below, but feel free to experiment with different transformations. "
      ],
      "metadata": {
        "id": "fOCKFGu0sZm_"
      }
    },
    {
      "cell_type": "code",
      "source": [
        "transform_train = transforms.Compose([transforms.ToTensor(), transforms.Resize(256), transforms.RandomCrop(224), transforms.RandomHorizontalFlip(p=0.5), transforms.RandomRotation(10), transforms.Normalize((0.5, 0.5, 0.5), (0.5, 0.5, 0.5))])\n",
        "transform_test = transforms.Compose([transforms.ToTensor(), transforms.Resize(256), transforms.CenterCrop(224), transforms.Normalize((0.5, 0.5, 0.5), (0.5, 0.5, 0.5))])"
      ],
      "metadata": {
        "id": "NM7WT0Pyte_Q"
      },
      "execution_count": null,
      "outputs": []
    },
    {
      "cell_type": "markdown",
      "source": [
        "And we can now create our data loaders:"
      ],
      "metadata": {
        "id": "9P2Ysu0-xQNy"
      }
    },
    {
      "cell_type": "code",
      "source": [
        "os.makedirs('data', exist_ok = True)\n",
        "os.makedirs('models', exist_ok = True)\n",
        "\n",
        "trainset = torchvision.datasets.CIFAR10(root='data', train=True, download=True, transform=transform_train)\n",
        "testset = torchvision.datasets.CIFAR10(root='data', train=False, download=True, transform=transform_test)\n",
        "\n",
        "batch_size = 4\n",
        "\n",
        "trainloader = torch.utils.data.DataLoader(trainset, batch_size=batch_size, shuffle=True, num_workers=2)\n",
        "testloader = torch.utils.data.DataLoader(testset, batch_size=batch_size, shuffle=False, num_workers=2)\n",
        "\n",
        "\n",
        "# get some random training images\n",
        "dataiter=iter(trainloader)\n",
        "images,labels=next(dataiter)\n",
        "\n",
        "print(f\"number of samples{images.shape} (batch size, color channel, width, hieght)\")\n",
        "print(f\"number of labels {labels.shape}\")"
      ],
      "metadata": {
        "id": "y-58-vOktf-d"
      },
      "execution_count": null,
      "outputs": []
    },
    {
      "cell_type": "markdown",
      "source": [
        "Note from the print out above that the images are now 3x224x224 and not 3x32x32. (the first dim = 4 is the batch dimension)\n",
        "\n",
        "Before we go further, I just show a couple of different ways you can examine \n",
        "\n",
        "your network architecture - as supplements to just \"print(model)\""
      ],
      "metadata": {
        "id": "dT1eBy6kxcfO"
      }
    },
    {
      "cell_type": "code",
      "source": [
        "summary(model, (3,224,244))"
      ],
      "metadata": {
        "id": "s4sbUMkjtf5V"
      },
      "execution_count": null,
      "outputs": []
    },
    {
      "cell_type": "code",
      "source": [
        "for k in model._modules.keys():\n",
        "  print(k)"
      ],
      "metadata": {
        "id": "WBYHRwQ9tf0z"
      },
      "execution_count": null,
      "outputs": []
    },
    {
      "cell_type": "markdown",
      "source": [
        "We can also check which parameters are trainable:"
      ],
      "metadata": {
        "id": "8XlWBJi7ydLs"
      }
    },
    {
      "cell_type": "code",
      "source": [
        "print(\"Params to learn:\")\n",
        "\n",
        "for name,param in model.named_parameters():\n",
        "  if param.requires_grad == True:\n",
        "    print(\"\\t\",name)"
      ],
      "metadata": {
        "id": "M5P6xYbvycHz"
      },
      "execution_count": null,
      "outputs": []
    },
    {
      "cell_type": "markdown",
      "source": [
        "also we do not need to re-train all layers. If we want to, we could choose to only retrain the last layer (or layers). This is called feature extraction. That is, we are not just using a pre-trained network. We are using the specific features learned in that in network without changing them (or most of them).\n",
        "\n",
        "In the code below I freeze all parameters apart from the bias and weight in the last layer. Again note that this code is not universal. It works for vgg16 and a couple others, but networks with different architectures might need different handling."
      ],
      "metadata": {
        "id": "OdONpHbExjlE"
      }
    },
    {
      "cell_type": "code",
      "source": [
        "for param in list(model.parameters())[:-2]: # -2 save the last two parameters in Alexnet.\n",
        "  param.requires_grad = False"
      ],
      "metadata": {
        "id": "WRpicfr-xiRE"
      },
      "execution_count": null,
      "outputs": []
    },
    {
      "cell_type": "markdown",
      "source": [
        "If we now print the trainable parameters we see that only the last layer (the weights and the biases here) are trainable:"
      ],
      "metadata": {
        "id": "wzJbdD1Nz4ND"
      }
    },
    {
      "cell_type": "code",
      "source": [
        "print(\"Params to learn:\")\n",
        "\n",
        "for name,param in model.named_parameters():\n",
        "  if param.requires_grad == True:\n",
        "    print(\"\\t\",name)"
      ],
      "metadata": {
        "id": "EkbGYwGotfrP"
      },
      "execution_count": null,
      "outputs": []
    },
    {
      "cell_type": "markdown",
      "source": [
        "And you could also choose to keep more bare parameters learnable, like all three layers in the dense classifier for vgg16 (-6 instead of -2). For now, however, we want to retrain all parameters (feel free to go back and experiment later)."
      ],
      "metadata": {
        "id": "XLu3cw1iz4m3"
      }
    },
    {
      "cell_type": "code",
      "source": [
        "# train all parameters\n",
        "for param in list(model.parameters()):\n",
        "  param.requires_grad = True"
      ],
      "metadata": {
        "id": "rN4eZG94tfmB"
      },
      "execution_count": null,
      "outputs": []
    },
    {
      "cell_type": "markdown",
      "source": [
        "\n",
        "And, we can check that all the parameters are now trainable again"
      ],
      "metadata": {
        "id": "Q850b3wutgjt"
      }
    },
    {
      "cell_type": "code",
      "source": [
        "print(\"Params to learn:\")\n",
        "\n",
        "for name,param in model.named_parameters():\n",
        "  if param.requires_grad == True:\n",
        "    print(\"\\t\",name)"
      ],
      "metadata": {
        "id": "MuQDWVNscE-v"
      },
      "execution_count": null,
      "outputs": []
    },
    {
      "cell_type": "markdown",
      "source": [
        "\n",
        "And, we just go fine-tune/re-train our pre-trained model no bigger here. Feel free the experiment with different hyper parameters and optimizer.\n",
        "\n",
        "# NOTE THAT THESE ARE LARGE MODELS. THEY WILL TAKE TIME TO TRAIN EVEN ON A GPU.\n",
        "\n",
        "So go read the curriculum or some such in the mean time..."
      ],
      "metadata": {
        "id": "DjawVQG029-2"
      }
    },
    {
      "cell_type": "code",
      "execution_count": null,
      "metadata": {
        "id": "J7_mATioHqrh"
      },
      "outputs": [],
      "source": [
        "lr = 0.001\n",
        "momentum = 0.9\n",
        "\n",
        "criterion = nn.CrossEntropyLoss()\n",
        "optimizer = optim.Adam(model.parameters(), lr=lr)"
      ]
    },
    {
      "cell_type": "code",
      "execution_count": null,
      "metadata": {
        "id": "Wx71RL2UH5Zn"
      },
      "outputs": [],
      "source": [
        "# set the model to train mode\n",
        "model.train()\n",
        "\n",
        "n_epochs = 4\n",
        "\n",
        "for epoch in range(n_epochs):  # loop over the dataset multiple times\n",
        "\n",
        "    history_loss = []\n",
        "    running_loss = 0.0\n",
        "    for i, data in enumerate(trainloader, 0):\n",
        "        # get the inputs; data is a list of [inputs, labels]\n",
        "        inputs, labels = data[0].to(device), data[1].to(device)\n",
        "\n",
        "        # zero the parameter gradients\n",
        "        optimizer.zero_grad()\n",
        "\n",
        "        # forward\n",
        "        outputs = model(inputs)\n",
        "\n",
        "        # loss + backward\n",
        "        loss = criterion(outputs, labels)\n",
        "        loss.backward()\n",
        "        \n",
        "        # optimize\n",
        "        optimizer.step()\n",
        "\n",
        "        # print statistics\n",
        "        running_loss += loss.item()\n",
        "        history_loss.append(running_loss / len(trainset))\n",
        "        if i % 2000 == 1999:    # print every 2000 mini-batches\n",
        "            print(f'[{epoch + 1}, {i + 1:5d}] loss: {running_loss / 2000:.3f}')\n",
        "            running_loss = 0.0\n",
        "\n",
        "print('Finished Training')"
      ]
    },
    {
      "cell_type": "markdown",
      "source": [
        "Lets plot some test images\n"
      ],
      "metadata": {
        "id": "so1k2EXyGLtl"
      }
    },
    {
      "cell_type": "code",
      "execution_count": null,
      "metadata": {
        "id": "BnVeMskNITIq"
      },
      "outputs": [],
      "source": [
        "dataiter_test = iter(testloader)\n",
        "images_test, labels_test = dataiter_test.next()\n",
        "images_test = images_test.to(device)\n",
        "labels_test = labels_test.to(device)\n",
        "\n",
        "outputs = model(images_test)\n",
        "_, predicted = torch.max(outputs, 1)\n",
        "\n",
        "def show_predictions(images = images_test, labels = labels_test, classes = classes, predicted = predicted, n = 4):\n",
        "\n",
        "    plt.figure(figsize=(10,8))\n",
        "    \n",
        "    for i in range(n):\n",
        "      plt.subplot(1,n,i+1)\n",
        "    \n",
        "      img = images[i] / 2 + 0.5 # one image from batch and unnormalize\n",
        "      npimg = img.cpu().numpy() # from tensor to numpy\n",
        "      plt.imshow(np.transpose(npimg, (1, 2, 0))) # from shape (3,32,32) -> (32,32,3) bc imshow...\n",
        "      plt.title(f'true class: {classes[labels[i]]}\\npredicted class: {classes[predicted[i]]}')\n",
        "    plt.show()\n",
        "\n",
        "# show images\n",
        "show_predictions(images = images_test, labels = labels_test)"
      ]
    },
    {
      "cell_type": "markdown",
      "source": [
        "Find the overall accuracy"
      ],
      "metadata": {
        "id": "z7sO3PFBs2wl"
      }
    },
    {
      "cell_type": "code",
      "execution_count": null,
      "metadata": {
        "id": "eM4d9wr6IVOO"
      },
      "outputs": [],
      "source": [
        "correct = 0\n",
        "total = 0\n",
        "# since we're not training, we don't need to calculate the gradients for our outputs\n",
        "with torch.no_grad():\n",
        "    for data in testloader:\n",
        "        images, labels = data\n",
        "\n",
        "        # if you run on gpu\n",
        "        images = images.to(device)\n",
        "        labels = labels.to(device)\n",
        "        \n",
        "        # calculate outputs by running images through the network\n",
        "        outputs = model(images)\n",
        "        # the class with the highest energy is what we choose as prediction\n",
        "        _, predicted = torch.max(outputs.data, 1)\n",
        "        total += labels.size(0)\n",
        "        correct += (predicted == labels).sum().item()\n",
        "\n",
        "print(f'Accuracy of the network on the 10000 test images: {100 * correct // total} %')"
      ]
    },
    {
      "cell_type": "markdown",
      "source": [
        "And the class specific accuracy"
      ],
      "metadata": {
        "id": "0HLke7cXs5im"
      }
    },
    {
      "cell_type": "code",
      "execution_count": null,
      "metadata": {
        "id": "gwm2FcDJIXvz"
      },
      "outputs": [],
      "source": [
        "# prepare to count predictions for each class\n",
        "correct_pred = {classname: 0 for classname in classes}\n",
        "total_pred = {classname: 0 for classname in classes}\n",
        "\n",
        "# again no gradients needed\n",
        "\n",
        "model.eval() # should not be neccesary ince you fd owith no grad\n",
        "\n",
        "with torch.no_grad():\n",
        "    for data in testloader:\n",
        "        images, labels = data\n",
        "          # if you run on gpu\n",
        "        images = images.to(device)\n",
        "        labels = labels.to(device)\n",
        "\n",
        "        outputs = model(images)\n",
        "        _, predictions = torch.max(outputs, 1)\n",
        "        # collect the correct predictions for each class\n",
        "        for label, prediction in zip(labels, predictions):\n",
        "            if label == prediction:\n",
        "                correct_pred[classes[label]] += 1\n",
        "            total_pred[classes[label]] += 1\n",
        "\n",
        "\n",
        "# print accuracy for each class\n",
        "for classname, correct_count in correct_pred.items():\n",
        "    accuracy = 100 * float(correct_count) / total_pred[classname]\n",
        "    print(f'Accuracy for class: {classname:5s} is {accuracy:.1f} %')"
      ]
    },
    {
      "cell_type": "markdown",
      "source": [
        "Now go back and try a different model, e.g. mobilenet_v3_small. See if you can beat vgg16_bn.\n",
        "\n",
        "And now couple of concluding remarks:\n",
        "\n",
        "1. The next real challenge is using your own data. First you need to label it. This takes time but given that you now know a bit about using pre-trained networks, you might only need to label 100-1000 images to get okay results.\n",
        "\n",
        "2. It can be a hassle creating you own data loader of custom data, but it is 100% doable. It might just require some trial and error.\n",
        "\n",
        "3. We have only really done image classification here. Chances are that if you are doing anything more serious you might want to do object detection or segmentation. Don't worry: the models are a bit more complicated but they exist and you can use pre-trained models here as well.\n",
        "\n",
        "4. Also, for custom annotations for object detection and segmentation tools such as LabelImg can help: https://github.com/tzutalin/labelImg.\n",
        "\n",
        "5. The Pytorch API for pre-trained models is going to change a bit in the future. Nothing major, but you will be able to choose between different pre-trained weights for each model. That is super nice, but it also means that the `pretrained = True` argument is going to be deprecated. See https://pytorch.org/blog/introducing-torchvision-new-multi-weight-support-api/ for more.\n",
        "\n",
        "6. Lastly, for this for this (and the previous) exercise we have imported models straight from pytorch and used native pytorch for everything. This is works very well, but if you going to use pre-trained models and want something a bit more powerful look into detectron2. This is especially important if you want to do more complicated stuff like object detection and semantic. Detectron2 is kind of a API wrapper around a lot of pre-defined and pre-trained models all implemented in pytorch. It is super powerful and it works very similar to what you just did. Indeed it is actually a bit more intuitive here and there when you get to know it. This links might prove useful. \n",
        "\n",
        "\n",
        "https://ai.facebook.com/blog/-detectron2-a-pytorch-based-modular-object-detection-library-/   \n",
        "https://detectron2.readthedocs.io/en/latest/   \n",
        "https://detectron2.readthedocs.io/en/latest/tutorials/getting_started.html   \n",
        "https://github.com/facebookresearch/detectron2   \n",
        "https://github.com/facebookresearch/detectron2/blob/main/MODEL_ZOO.md\n"
      ],
      "metadata": {
        "id": "766W7TGeiSHS"
      }
    }
  ],
  "metadata": {
    "colab": {
      "collapsed_sections": [],
      "name": "ASDS2022_2_exercise.ipynb",
      "provenance": []
    },
    "kernelspec": {
      "display_name": "Python 3",
      "name": "python3"
    },
    "language_info": {
      "name": "python"
    },
    "accelerator": "GPU"
  },
  "nbformat": 4,
  "nbformat_minor": 0
}