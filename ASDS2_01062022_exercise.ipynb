{
  "cells": [
    {
      "cell_type": "markdown",
      "metadata": {
        "id": "PchVfsvi589G"
      },
      "source": [
        "In this exercise we will try to make an Image Classifier via an convolutional neural network. Good luck!\n",
        "\n",
        "First we import the libraries which we will need (no need to change anything. Just make sure you understand the code)\n"
      ]
    },
    {
      "cell_type": "code",
      "execution_count": null,
      "metadata": {
        "id": "rcUzqzC71MTH"
      },
      "outputs": [],
      "source": [
        "import os\n",
        "import numpy as np\n",
        "import matplotlib.pyplot as plt\n",
        "\n",
        "import torch\n",
        "import torch.nn as nn\n",
        "import torch.optim as optim\n",
        "import torch.nn.functional as F\n",
        "import torchvision\n",
        "from torchvision import datasets\n",
        "import torchvision.transforms as transforms\n"
      ]
    },
    {
      "cell_type": "markdown",
      "source": [
        "Then we create a couple of folders which we will save stuff into - its a good habit to keep some order. And we will specify that we want to use a GPU if there is one available. (no need to change anything. Just make sure you understand the code)\n"
      ],
      "metadata": {
        "id": "sT1N-Vgh00XX"
      }
    },
    {
      "cell_type": "code",
      "execution_count": null,
      "metadata": {
        "colab": {
          "base_uri": "https://localhost:8080/"
        },
        "id": "k-QL4KSckM0M",
        "outputId": "6438c02c-7b0d-47b2-ce39-e19c7df21857"
      },
      "outputs": [
        {
          "output_type": "stream",
          "name": "stdout",
          "text": [
            "cuda\n"
          ]
        }
      ],
      "source": [
        "os.makedirs('data', exist_ok = True)\n",
        "os.makedirs('models', exist_ok = True)\n",
        "\n",
        "device = torch.device('cuda' if torch.cuda.is_available() else 'cpu')\n",
        "print(device)"
      ]
    },
    {
      "cell_type": "markdown",
      "source": [
        "We will now fetch our data. We will use the CIFAR10 dataset. It is a dataset of 32x32x3 pixel color images, divided into 10 different classes (plane, car, bird, cat, deer, dog, frog, horse, ship, truck). Conveniently this dataset can be obtained directly through pytorch. When we load the data, we also apply a couple of transformations to the images. We turn them into tensors and we normalize the pixel values. Right now we do the same for both train and test set, but later you might want to apply more transformations to the trainset - in order to preventing over fitting. (no need to change anything. Just make sure you understand the code)"
      ],
      "metadata": {
        "id": "4a2BFIDA1JCb"
      }
    },
    {
      "cell_type": "markdown",
      "source": [
        "\n",
        "---\n",
        "\n"
      ],
      "metadata": {
        "id": "6Ci-3KfPIAY9"
      }
    },
    {
      "cell_type": "code",
      "execution_count": null,
      "metadata": {
        "colab": {
          "base_uri": "https://localhost:8080/"
        },
        "id": "Pf8yxCJr9HJp",
        "outputId": "a76362db-f718-4c71-df96-71ac1700b957"
      },
      "outputs": [
        {
          "output_type": "stream",
          "name": "stdout",
          "text": [
            "Files already downloaded and verified\n",
            "Files already downloaded and verified\n"
          ]
        }
      ],
      "source": [
        "transform_train = transforms.Compose([transforms.ToTensor(), transforms.Normalize((0.5, 0.5, 0.5), (0.5, 0.5, 0.5))])\n",
        "transform_test = transforms.Compose([transforms.ToTensor(), transforms.Normalize((0.5, 0.5, 0.5), (0.5, 0.5, 0.5))])\n",
        "\n",
        "trainset = torchvision.datasets.CIFAR10(root='data', train=True, download=True, transform=transform_train)\n",
        "testset = torchvision.datasets.CIFAR10(root='data', train=False, download=True, transform=transform_test)\n",
        "\n",
        "classes = ('plane', 'car', 'bird', 'cat', 'deer', 'dog', 'frog', 'horse', 'ship', 'truck')\n"
      ]
    },
    {
      "cell_type": "markdown",
      "source": [
        "We now create the pytorch dataloaders. Feel free to play around with the batchsize (But otherwise, there is no need to change anything. Just make sure you understand the code)."
      ],
      "metadata": {
        "id": "nsy3HyIcBCsK"
      }
    },
    {
      "cell_type": "code",
      "source": [
        "batch_size = 4\n",
        "\n",
        "trainloader = torch.utils.data.DataLoader(trainset, batch_size=batch_size, shuffle=True, num_workers=2)\n",
        "testloader = torch.utils.data.DataLoader(testset, batch_size=batch_size, shuffle=False, num_workers=2)"
      ],
      "metadata": {
        "id": "8858-djHA_dr"
      },
      "execution_count": null,
      "outputs": []
    },
    {
      "cell_type": "markdown",
      "source": [
        "If you want to try with the MNIST digit set, the data can be loaded with the script below. Note that some of the later code will need editing for to work on this data."
      ],
      "metadata": {
        "id": "KPkZSkrzBkPx"
      }
    },
    {
      "cell_type": "code",
      "source": [
        "#trainset = datasets.MNIST( root = 'data', train = True, transform = transforms.ToTensor(), download = True)\n",
        "#testset = datasets.MNIST(root = 'data', train = False, transform = transforms.ToTensor())\n",
        "\n",
        "#batch_size = 100\n",
        "\n",
        "#trainloader=torch.utils.data.DataLoader(dataset=train_dataset, batch_size = batch_size, shuffle=True)\n",
        "#trainloader=torch.utils.data.DataLoader(dataset=test_dataset, batch_size = batch_size, shuffle=True)\n",
        "\n",
        "#data=iter(train_dataloader)\n",
        "#samples,labels=next(data)\n",
        "#print(f\"number of samples{samples.shape}\")\n",
        "#print(f\"number of labels {labels.shape}\")"
      ],
      "metadata": {
        "id": "Uq8h7vOqz7l5"
      },
      "execution_count": null,
      "outputs": []
    },
    {
      "cell_type": "markdown",
      "source": [
        "Now, lets visualize some images (no need to change anything. Just make sure you understand the code): "
      ],
      "metadata": {
        "id": "MmEN6vm2BuWH"
      }
    },
    {
      "cell_type": "code",
      "execution_count": null,
      "metadata": {
        "colab": {
          "base_uri": "https://localhost:8080/"
        },
        "id": "MF9mbF4G97K4",
        "outputId": "5cb0f3e6-902a-4f7f-f5ba-1ba74d7ddcd7"
      },
      "outputs": [
        {
          "output_type": "stream",
          "name": "stdout",
          "text": [
            "number of samplestorch.Size([4, 3, 32, 32]) (batch size, color channel, width, hieght)\n",
            "number of labels torch.Size([4])\n"
          ]
        }
      ],
      "source": [
        "# get some random training images\n",
        "dataiter=iter(trainloader)\n",
        "images,labels=next(dataiter)\n",
        "\n",
        "print(f\"number of samples{images.shape} (batch size, color channel, width, hieght)\")\n",
        "print(f\"number of labels {labels.shape}\")"
      ]
    },
    {
      "cell_type": "code",
      "execution_count": null,
      "metadata": {
        "colab": {
          "base_uri": "https://localhost:8080/",
          "height": 185
        },
        "id": "jJ5R4w1lcPxd",
        "outputId": "bafc9bcc-f1bd-45d9-e7d7-ac93f1e72a9f"
      },
      "outputs": [
        {
          "output_type": "display_data",
          "data": {
            "text/plain": [
              "<Figure size 720x576 with 4 Axes>"
            ],
            "image/png": "[encoded data removed]"
          },
          "metadata": {
            "needs_background": "light"
          }
        }
      ],
      "source": [
        "def show_sample(images = images, labels = labels, classes = classes, n = 4):\n",
        "\n",
        "    plt.figure(figsize=(10,8))\n",
        "    \n",
        "    for i in range(n):\n",
        "      plt.subplot(1,n,i+1)\n",
        "    \n",
        "      img = images[i] / 2 + 0.5 # one image from batch and unnormalize\n",
        "      npimg = img.numpy() # from tensor to numpy\n",
        "      plt.imshow(np.transpose(npimg, (1, 2, 0))) # from shape (3,32,32) -> (32,32,3) bc imshow...\n",
        "      plt.title(f'class: {labels[i]} ({classes[labels[i]]})')\n",
        "    plt.show()\n",
        "\n",
        "# show images\n",
        "show_sample(images)"
      ]
    },
    {
      "cell_type": "markdown",
      "source": [
        "Below you will find a small helper function, which might prove useful later on. It is just a convenience thing that can help you figure out the dimension of you outputs. For instance:\n",
        "\n",
        "$$\n",
        "output_{hieght} = \\frac{indput_{height} - kernel_{height} + 2 \\times padding}{stride} + 1\n",
        "$$\n",
        "\n",
        "And if both inputs and kernels are square (which they very often, but not always are) then height and width of both will be the the same."
      ],
      "metadata": {
        "id": "E1RuTyHgCMO5"
      }
    },
    {
      "cell_type": "code",
      "execution_count": null,
      "metadata": {
        "id": "CaNCXx-PwQBU"
      },
      "outputs": [],
      "source": [
        "def conv_dims(input_size, kernel_size, stride, padding):\n",
        "  output_size = ((input_size - kernel_size + 2 * padding)/ stride)+1\n",
        "  print(int(output_size))\n"
      ]
    },
    {
      "cell_type": "markdown",
      "source": [
        "Now lets define our network! For this task we get our inspiration from early CNNs such as [LeNet](https://cdn-images-1.medium.com/max/2000/1*1TI1aGBZ4dybR6__DI9dzA.png) and [Axelnet](https://www.learnopencv.com/wp-content/uploads/2018/05/AlexNet-1.png). These are basically encoders: Meaning we go from very rich and high dimensiononal representations (color images 32x32x3) to a more abstract and low dimensional representation (classes 1x10). \n",
        "\n",
        "\n",
        "The network below needs dimension. You get to fill these in.\n",
        "\n",
        "- The first conv layer should take a three channel input (color images. for now let this layer ouput 16 channels, use a 3x3 kernel, have a stride 1 and a padding of 1.\n",
        "\n",
        "- For now, the second conv layer should have 32 output channels, kernel size 3x3, a stride of 1 and a padding of 1\n",
        "\n",
        "- For now, The third conv layer should have 64 output channels, kernel size 3x3, a stride of 1 and a padding of 1.\n",
        "\n",
        "- The first dense (linear) layer should take as input the the number of output channels from the last conv layer times the hieght of the last feature map times the width of the last feature map. For now, make the output 256.\n",
        "\n",
        "- For now, let the second dense layer output be 128\n",
        "\n",
        "- The last dense layer should have an output=number of classes.\n",
        "\n",
        "- The max pooling should be 2x2 with stride 2 (this will half the height and with of the image/feature map.)\n",
        "\n",
        "- We use relu for all activations (already implimented), save the last. The last one is usually a softmax as we are doing classifications. The softmax changes the scores for each class into probabilities which is nice and intuative. But it is not actually needed for the network to work. We can easily use the \"energies\"/scores to get the mostly likely class. As such I do not have a softmax in the end below. Feel free to experiment then change this. \n",
        "\n",
        "Also note that the convolutional layers do not as such care about the width and the height of the inputs - it just execute over almost anything. As such this should not be explicitly specified; only the channels. But you will still need to keep track of how the height and width of how your input/output changes for two reasons. 1) You will need to know the size of the flattened vector when you feed it into the dense layer. 2) If you do not keep track of the dimensions, you will not know when to stop using max/mean/average poolings (or true convolutions).\n",
        "\n",
        "\n",
        "The following links might prove helpful (please read the docs and quiz your peers before you ask your TA...)\n",
        "\n",
        "- https://pytorch.org/docs/stable/generated/torch.nn.Conv2d.html\n",
        "\n",
        "- https://pytorch.org/docs/stable/generated/torch.nn.MaxPool2d.html?highlight=nn%20maxpool2d#torch.nn.MaxPool2d\n",
        "\n",
        "- https://pytorch.org/docs/stable/generated/torch.nn.Linear.html?highlight=nn%20linear#torch.nn.Linear\n",
        "\n",
        "- https://pytorch.org/docs/stable/generated/torch.nn.ReLU.html#torch.nn.ReLU\n",
        "\n",
        "- https://pytorch.org/docs/stable/generated/torch.nn.Softmax.html?highlight=softmax#torch.nn.Softmax"
      ],
      "metadata": {
        "id": "v0ZS54Es0JmX"
      }
    },
    {
      "cell_type": "code",
      "execution_count": null,
      "metadata": {
        "id": "Sq8vqYLpvUVD"
      },
      "outputs": [],
      "source": [
        "class Net(nn.Module):\n",
        "    def __init__(self):\n",
        "        super().__init__()\n",
        "\n",
        "        # convolutional layers\n",
        "        self.conv1 = nn.Conv2d(in_channels = ..., out_channels = ..., kernel_size = ..., stride=..., padding=...)\n",
        "        self.conv2 = nn.Conv2d(in_channels = ..., out_channels = ..., kernel_size = ..., stride=..., padding=...)\n",
        "        self.conv3 = nn.Conv2d(in_channels = ..., out_channels = ..., kernel_size = ..., stride=..., padding=...)\n",
        "\n",
        "        # full layers\n",
        "        self.fc1 = nn.Linear(..., ...) #input = last conv output HxWxC\n",
        "        self.fc2 = nn.Linear(..., ...)\n",
        "        self.fc3 = nn.Linear(..., ...)\n",
        "\n",
        "        # other\n",
        "        self.pool = nn.MaxPool2d(..., ...) \n",
        "\n",
        "\n",
        "    def forward(self, x):\n",
        "        x = self.pool(F.relu(self.conv1(x))) \n",
        "        x = self.pool(F.relu(self.conv2(x))) \n",
        "        x = self.pool(F.relu(self.conv3(x))) \n",
        "\n",
        "        x = torch.flatten(x, 1) # flatten all dimensions except batch\n",
        "        x = F.relu(self.fc1(x)) # if you get an error regarding this relu, specify it above as: self.relu1 = nn.ReLU() and so forth.\n",
        "        x = F.relu(self.fc2(x))\n",
        "        x = self.fc3(x)\n",
        "        return x\n",
        "\n",
        "\n",
        "net = Net().to(device)"
      ]
    },
    {
      "cell_type": "markdown",
      "metadata": {
        "id": "JFQgtMM-i6_y"
      },
      "source": [
        "Now we define our optimization strategy. Since we are classifying we will be using a cross entropy loss function. And for now we just use plain old Gradient decent, but feel free to experiment later on. The following link might be useful. Also feel free the expiriment with any hyper paremeters here (e.g learning rate and momentum).\n",
        "\n",
        "- https://pytorch.org/docs/stable/generated/torch.optim.SGD.html#torch.optim.SGD\n"
      ]
    },
    {
      "cell_type": "code",
      "execution_count": null,
      "metadata": {
        "id": "U-vOsYjjY9ac"
      },
      "outputs": [],
      "source": [
        "lr = 0.001\n",
        "momentum = 0.9\n",
        "\n",
        "criterion = nn.CrossEntropyLoss() # Loss for classification with more than 2 classes\n",
        "optimizer = optim.SGD(net.parameters(), lr=lr, momentum=momentum)\n"
      ]
    },
    {
      "cell_type": "markdown",
      "source": [
        "Now for the training loop. Fill in the missing steps and run it! I have set the number of epochs to just 2 for now. Feel free to change it later.\n",
        "\n",
        "In random order, the missing arguments are:\n",
        "- loss.backward()\n",
        "- optimizer.step()\n",
        "- outputs = net(inputs)\n",
        "- optimizer.zero_grad()\n",
        "- loss = criterion(outputs, labels)"
      ],
      "metadata": {
        "id": "m_lt_ZKyWzZv"
      }
    },
    {
      "cell_type": "code",
      "execution_count": null,
      "metadata": {
        "colab": {
          "base_uri": "https://localhost:8080/"
        },
        "id": "VpRCRHmBY9XJ",
        "outputId": "f90bd2de-2058-4d49-b0a4-73cdb41e314d"
      },
      "outputs": [
        {
          "output_type": "stream",
          "name": "stdout",
          "text": [
            "[1,  2000] loss: 2.240\n",
            "[1,  4000] loss: 1.990\n",
            "[1,  6000] loss: 1.828\n",
            "[1,  8000] loss: 1.616\n",
            "[1, 10000] loss: 1.513\n",
            "[1, 12000] loss: 1.410\n",
            "[2,  2000] loss: 1.317\n",
            "[2,  4000] loss: 1.261\n",
            "[2,  6000] loss: 1.216\n",
            "[2,  8000] loss: 1.173\n",
            "[2, 10000] loss: 1.140\n",
            "[2, 12000] loss: 1.061\n",
            "Finished Training\n"
          ]
        }
      ],
      "source": [
        "n_epochs = 2\n",
        "\n",
        "for epoch in range(n_epochs):  # loop over the dataset multiple times\n",
        "\n",
        "    history_loss = []\n",
        "    running_loss = 0.0\n",
        "    for i, data in enumerate(trainloader, 0):\n",
        "        # get the inputs; data is a list of [inputs, labels]\n",
        "        inputs, labels = data\n",
        "\n",
        "        # if you run on gpu\n",
        "        inputs = inputs.to(device)\n",
        "        labels = labels.to(device)\n",
        "\n",
        "        # zero the parameter gradients\n",
        "        ...\n",
        "\n",
        "        # forward\n",
        "        ...\n",
        "\n",
        "        # loss + backward\n",
        "        ...\n",
        "        ...\n",
        "        \n",
        "        # optimize\n",
        "        ...\n",
        "\n",
        "        # print statistics\n",
        "        running_loss += loss.item()\n",
        "        history_loss.append(running_loss / len(trainset))\n",
        "        if i % 2000 == 1999:    # print every 2000 mini-batches\n",
        "            print(f'[{epoch + 1}, {i + 1:5d}] loss: {running_loss / 2000:.3f}')\n",
        "            running_loss = 0.0\n",
        "\n",
        "print('Finished Training')"
      ]
    },
    {
      "cell_type": "markdown",
      "source": [
        "Save your model - this is always a prudent thing todo"
      ],
      "metadata": {
        "id": "FKMDrnVLWNrO"
      }
    },
    {
      "cell_type": "code",
      "execution_count": null,
      "metadata": {
        "id": "YNS3RqCtY9T9"
      },
      "outputs": [],
      "source": [
        "PATH = 'models/cifar_net.pth'\n",
        "torch.save(net.state_dict(), PATH)"
      ]
    },
    {
      "cell_type": "markdown",
      "metadata": {
        "id": "87fUfR74jx3A"
      },
      "source": [
        "Now we will turn our attention to the test set. If you have just run you model, you do not strictly need to load the saved version, but it is a prudent thing to do (There is no need to change anything. Just make sure you understand the code). \n",
        "\n"
      ]
    },
    {
      "cell_type": "code",
      "execution_count": null,
      "metadata": {
        "id": "_YgLncyOY9QX"
      },
      "outputs": [],
      "source": [
        "dataiter = iter(testloader)\n",
        "images, labels = dataiter.next()\n",
        "\n",
        "# this step is not needed if you have just trained your network\n",
        "net = Net()\n",
        "net.load_state_dict(torch.load(PATH))\n",
        "\n",
        "outputs = net(images)\n",
        "\n",
        "_, predicted = torch.max(outputs, 1)"
      ]
    },
    {
      "cell_type": "markdown",
      "source": [
        "Lets look at some predictions (There is no need to change anything. Just make sure you understand the code). \n"
      ],
      "metadata": {
        "id": "6PACtw_Vd2kz"
      }
    },
    {
      "cell_type": "code",
      "execution_count": null,
      "metadata": {
        "id": "-Jr6XKDCjxvt",
        "colab": {
          "base_uri": "https://localhost:8080/",
          "height": 200
        },
        "outputId": "93c15ff0-333a-4ff6-9ad1-2528a7bd3b39"
      },
      "outputs": [
        {
          "output_type": "display_data",
          "data": {
            "text/plain": [
              "<Figure size 720x576 with 4 Axes>"
            ],
            "image/png": "[encoded data removed]"
          },
          "metadata": {
            "needs_background": "light"
          }
        }
      ],
      "source": [
        "def show_predictions(images = images, labels = labels, classes = classes, predicted = predicted, n = 4):\n",
        "\n",
        "    plt.figure(figsize=(10,8))\n",
        "    \n",
        "    for i in range(n):\n",
        "      plt.subplot(1,n,i+1)\n",
        "    \n",
        "      img = images[i] / 2 + 0.5 # one image from batch and unnormalize\n",
        "      npimg = img.numpy() # from tensor to numpy\n",
        "      plt.imshow(np.transpose(npimg, (1, 2, 0))) # from shape (3,32,32) -> (32,32,3) bc imshow...\n",
        "      plt.title(f'true class: {classes[labels[i]]}\\npredicted class: {classes[predicted[i]]}')\n",
        "    plt.show()\n",
        "\n",
        "# show images\n",
        "show_predictions(images)"
      ]
    },
    {
      "cell_type": "markdown",
      "source": [
        "Calculate the over all accuracy. Remember there are 10 classes so random would be something like 10% - not 50% (There is no need to change anything. Just make sure you understand the code). "
      ],
      "metadata": {
        "id": "E4wxSrXHd_a0"
      }
    },
    {
      "cell_type": "code",
      "execution_count": null,
      "metadata": {
        "id": "FxaPRguOjxso",
        "colab": {
          "base_uri": "https://localhost:8080/"
        },
        "outputId": "8208fb38-b172-4a33-de81-d48e9905df30"
      },
      "outputs": [
        {
          "output_type": "stream",
          "name": "stdout",
          "text": [
            "Accuracy of the network on the 10000 test images: 61 %\n"
          ]
        }
      ],
      "source": [
        "correct = 0\n",
        "total = 0\n",
        "# since we're not training, we don't need to calculate the gradients for our outputs\n",
        "with torch.no_grad():\n",
        "    for data in testloader:\n",
        "        images, labels = data\n",
        "        # calculate outputs by running images through the network\n",
        "        outputs = net(images)\n",
        "        # the class with the highest energy is what we choose as prediction\n",
        "        _, predicted = torch.max(outputs.data, 1)\n",
        "        total += labels.size(0)\n",
        "        correct += (predicted == labels).sum().item()\n",
        "\n",
        "print(f'Accuracy of the network on the 10000 test images: {100 * correct // total} %')"
      ]
    },
    {
      "cell_type": "markdown",
      "source": [
        "And now for each class (There is no need to change anything. Just make sure you understand the code)."
      ],
      "metadata": {
        "id": "UnwgCKhqeR1n"
      }
    },
    {
      "cell_type": "code",
      "execution_count": null,
      "metadata": {
        "id": "xVkjSwYsjxpl",
        "colab": {
          "base_uri": "https://localhost:8080/"
        },
        "outputId": "7e300c27-eb4b-435f-ae04-cf4489ca5f32"
      },
      "outputs": [
        {
          "output_type": "stream",
          "name": "stdout",
          "text": [
            "Accuracy for class: plane is 60.9 %\n",
            "Accuracy for class: car   is 49.4 %\n",
            "Accuracy for class: bird  is 54.0 %\n",
            "Accuracy for class: cat   is 37.5 %\n",
            "Accuracy for class: deer  is 66.7 %\n",
            "Accuracy for class: dog   is 47.4 %\n",
            "Accuracy for class: frog  is 76.8 %\n",
            "Accuracy for class: horse is 68.6 %\n",
            "Accuracy for class: ship  is 84.0 %\n",
            "Accuracy for class: truck is 74.6 %\n"
          ]
        }
      ],
      "source": [
        "# prepare to count predictions for each class\n",
        "correct_pred = {classname: 0 for classname in classes}\n",
        "total_pred = {classname: 0 for classname in classes}\n",
        "\n",
        "# again no gradients needed\n",
        "with torch.no_grad():\n",
        "    for data in testloader:\n",
        "        images, labels = data\n",
        "        outputs = net(images)\n",
        "        _, predictions = torch.max(outputs, 1)\n",
        "        # collect the correct predictions for each class\n",
        "        for label, prediction in zip(labels, predictions):\n",
        "            if label == prediction:\n",
        "                correct_pred[classes[label]] += 1\n",
        "            total_pred[classes[label]] += 1\n",
        "\n",
        "\n",
        "# print accuracy for each class\n",
        "for classname, correct_count in correct_pred.items():\n",
        "    accuracy = 100 * float(correct_count) / total_pred[classname]\n",
        "    print(f'Accuracy for class: {classname:5s} is {accuracy:.1f} %')"
      ]
    },
    {
      "cell_type": "markdown",
      "metadata": {
        "id": "ZV93BjvmqpcE"
      },
      "source": [
        "DONE! \n",
        "\n",
        "Or well, this was just the first step. Now you should go back and see if you can improve on your results. The logic should be as follows: first achieve a good fit and mitigate over fitting. \n",
        "\n",
        "So, to increase the fit/capacity of you network:\n",
        "\n",
        "- run for more epochs\n",
        "- Try to increase the number of channels in you conv layers.\n",
        "- Try to increase to number of nodes in your dense layers\n",
        "- Try to increase the depth of you network (more conv or dense layers)\n",
        "- Try adding batch normalization to your layers (2d for conv layers, 1d for dense layers)\n",
        "- Try a better optimization strategy (RMSprop, Adam)\n",
        "\n",
        "Now see if you can decrease overfitting, for instance:\n",
        "- Ad dropout layers to your network (2d for conv layers, 1d for dense layers)\n",
        "- Try adding more transformations to your training set.  \n",
        "- Smaller batch size\n",
        "\n",
        "The following links might prove helpful\n",
        "- https://pytorch.org/docs/stable/generated/torch.nn.BatchNorm1d.html?highlight=batchnorm#torch.nn.BatchNorm1d\n",
        "\n",
        "- https://pytorch.org/docs/stable/generated/torch.optim.RMSprop.html#torch.optim.RMSprop\n",
        "\n",
        "- https://pytorch.org/docs/stable/generated/torch.optim.Adam.html#torch.optim.Adam\n",
        "\n",
        "- https://pytorch.org/docs/stable/generated/torch.nn.BatchNorm2d.html?highlight=batchnorm#torch.nn.BatchNorm2d\n",
        "\n",
        "- https://pytorch.org/docs/stable/generated/torch.nn.Dropout.html\n",
        "\n",
        "- https://pytorch.org/vision/0.8/transforms.html\n"
      ]
    }
  ],
  "metadata": {
    "accelerator": "GPU",
    "colab": {
      "collapsed_sections": [],
      "name": "ASDS2_2022_1Students.ipynb",
      "provenance": []
    },
    "kernelspec": {
      "display_name": "Python 3",
      "name": "python3"
    },
    "language_info": {
      "name": "python"
    }
  },
  "nbformat": 4,
  "nbformat_minor": 0
}